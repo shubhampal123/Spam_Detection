{
  "nbformat": 4,
  "nbformat_minor": 0,
  "metadata": {
    "kernelspec": {
      "display_name": "Python 3",
      "language": "python",
      "name": "python3"
    },
    "language_info": {
      "codemirror_mode": {
        "name": "ipython",
        "version": 3
      },
      "file_extension": ".py",
      "mimetype": "text/x-python",
      "name": "python",
      "nbconvert_exporter": "python",
      "pygments_lexer": "ipython3",
      "version": "3.7.4"
    },
    "colab": {
      "name": "ml_neural_network.ipynb",
      "provenance": [],
      "collapsed_sections": [],
      "toc_visible": true,
      "include_colab_link": true
    }
  },
  "cells": [
    {
      "cell_type": "markdown",
      "metadata": {
        "id": "view-in-github",
        "colab_type": "text"
      },
      "source": [
        "<a href=\"https://colab.research.google.com/github/shubhampal123/Spam_Detection/blob/master/ml_neural_network.ipynb\" target=\"_parent\"><img src=\"https://colab.research.google.com/assets/colab-badge.svg\" alt=\"Open In Colab\"/></a>"
      ]
    },
    {
      "cell_type": "code",
      "metadata": {
        "id": "ScfEf5wYSxU3",
        "colab_type": "code",
        "colab": {}
      },
      "source": [
        "import pickle\n",
        "traindata=[]\n",
        "testdata=[]\n",
        "with open('traindata.txt', 'rb') as filehandle:\n",
        "    # read the data as binary data stream\n",
        "    traindata = pickle.load(filehandle)"
      ],
      "execution_count": 0,
      "outputs": []
    },
    {
      "cell_type": "code",
      "metadata": {
        "id": "R4GoG3OfSxVC",
        "colab_type": "code",
        "colab": {}
      },
      "source": [
        "with open('testdata.txt', 'rb') as filehandle:\n",
        "    # read the data as binary data stream\n",
        "    testdata= pickle.load(filehandle)"
      ],
      "execution_count": 0,
      "outputs": []
    },
    {
      "cell_type": "code",
      "metadata": {
        "id": "TDvc0s93SxVK",
        "colab_type": "code",
        "colab": {}
      },
      "source": [
        "dict,lab=traindata[0]"
      ],
      "execution_count": 0,
      "outputs": []
    },
    {
      "cell_type": "code",
      "metadata": {
        "id": "3uWTbMewSxVO",
        "colab_type": "code",
        "colab": {
          "base_uri": "https://localhost:8080/",
          "height": 34
        },
        "outputId": "a72fb732-40ec-4494-be8e-b912b9c4e8d8"
      },
      "source": [
        "print(len(dict))"
      ],
      "execution_count": 54,
      "outputs": [
        {
          "output_type": "stream",
          "text": [
            "1500\n"
          ],
          "name": "stdout"
        }
      ]
    },
    {
      "cell_type": "code",
      "metadata": {
        "id": "IDzpE9CYSxVb",
        "colab_type": "code",
        "colab": {}
      },
      "source": [
        "\n",
        "import numpy as np\n",
        "import random\n",
        "random.seed(1)\n",
        "\n",
        "m=len(traindata)\n",
        "n=1500\n",
        "s0=n \n",
        "s1=10\n",
        "s2=1\n",
        "\n",
        "w1=np.random.randn(s1,s0)*0.01\n",
        "w2=np.random.randn(s2,s1)*0.01 \n",
        "b1=np.random.randn(s1,1)*0.01\n",
        "b2=np.random.randn(s2,1)*0.01"
      ],
      "execution_count": 0,
      "outputs": []
    },
    {
      "cell_type": "code",
      "metadata": {
        "id": "RYm87iSKSxVf",
        "colab_type": "code",
        "colab": {}
      },
      "source": [
        "iterations=100\n",
        "alpha=10000"
      ],
      "execution_count": 0,
      "outputs": []
    },
    {
      "cell_type": "code",
      "metadata": {
        "id": "iNKXn86TSxVo",
        "colab_type": "code",
        "colab": {}
      },
      "source": [
        "def sigmoid(x):\n",
        "    return 1/(1+np.exp(-x))"
      ],
      "execution_count": 0,
      "outputs": []
    },
    {
      "cell_type": "code",
      "metadata": {
        "id": "h4_g7MgESxVx",
        "colab_type": "code",
        "colab": {}
      },
      "source": [
        "def ReLU(x):\n",
        "    return max(0,x) "
      ],
      "execution_count": 0,
      "outputs": []
    },
    {
      "cell_type": "code",
      "metadata": {
        "id": "aOGJRD_SSxV-",
        "colab_type": "code",
        "colab": {
          "base_uri": "https://localhost:8080/",
          "height": 50
        },
        "outputId": "72d77f76-2e0b-4b31-b033-a1da01f4a233"
      },
      "source": [
        "for iteration in range(iterations):\n",
        "    dw1=[[0]*n]*s1\n",
        "    dw2=[[0]*s1]*s2\n",
        "    db1=[[0]*1]*s1\n",
        "    db2=[[0]*1]*s2\n",
        "    for i in range(int(m/10)):\n",
        "    ### Forward Propogation\n",
        "        dic,label=traindata[i]\n",
        "        a0=[[0]*1]*n\n",
        "        index=0\n",
        "        for x,y in dic.items():\n",
        "            if y :\n",
        "                a0[index][0]=1\n",
        "            \n",
        "            index=index+1 \n",
        "        \n",
        "        a1=[[0]*1]*s1\n",
        "        \n",
        "        for j in range(s1):\n",
        "            ### For jth neuron in 1st layer\n",
        "            for k in range(s0):\n",
        "                a1[j][0]=a1[j][0]+w1[j][k]*a0[k][0]\n",
        "            \n",
        "            a1[j][0]=a1[j][0]+b1[j][0]\n",
        "            \n",
        "            a1[j][0]=sigmoid(a1[j][0])\n",
        "            \n",
        "        a2=[[0]*1]*s2\n",
        "        for j in range(s2):\n",
        "            ### For jth neuron in 2nd layer\n",
        "            for k in range(s1):\n",
        "                a2[j][0]=a2[j][0]+w2[j][k]*a1[k][0]\n",
        "            \n",
        "            a2[j][0]=a2[j][0]+b2[j][0]\n",
        "            \n",
        "            a2[j][0]=sigmoid(a2[j][0])\n",
        "            \n",
        "        \n",
        "    ### Backward Propogation\n",
        "        dz2=[[a2[0][0]-label]*1]*s2\n",
        "        dz1=[[0]*1]*s1\n",
        "        \n",
        "        for j in range(s2):\n",
        "            db2[j][0]=db2[j][0]+dz2[j][0] \n",
        "            for k in range(s1):\n",
        "                dw2[j][k]=dw2[j][k]+dz2[j][0]*a1[k][0]\n",
        "                dz1[k][0]=dz1[k][0]+w2[j][k]*dz2[j][0]\n",
        "        \n",
        "        \n",
        "        for j in range(s1):\n",
        "            db1[j][0]=db1[j][0]+dz1[j][0] \n",
        "            for k in range(s0):\n",
        "                dw1[j][k]=dw1[j][k]+dz1[j][0]*a0[k][0]\n",
        "                \n",
        "                \n",
        "    ### Update the parameters\n",
        "        w1=w1-np.multiply(dw1,alpha)\n",
        "        w2=w2-np.multiply(dw2,alpha)\n",
        "        b1=b1-np.multiply(db1,alpha)\n",
        "        b2=b2-np.multiply(db2,alpha)\n",
        "        \n",
        "                "
      ],
      "execution_count": 59,
      "outputs": [
        {
          "output_type": "stream",
          "text": [
            "/usr/local/lib/python3.6/dist-packages/ipykernel_launcher.py:2: RuntimeWarning: overflow encountered in exp\n",
            "  \n"
          ],
          "name": "stderr"
        }
      ]
    },
    {
      "cell_type": "code",
      "metadata": {
        "id": "4sbAl05eSxWF",
        "colab_type": "code",
        "colab": {}
      },
      "source": [
        "def predict(dict):\n",
        "\n",
        "        a0=[[0]*1]*n\n",
        "        index=0\n",
        "        for x,y in dict.items():\n",
        "            if y :\n",
        "                a0[index][0]=1\n",
        "            \n",
        "            index=index+1 \n",
        "        \n",
        "        a1=[[0]*1]*s1\n",
        "        \n",
        "        for j in range(s1):\n",
        "            ### For jth neuron in 1st layer\n",
        "            for k in range(s0):\n",
        "                a1[j][0]=a1[j][0]+w1[j][k]*a0[k][0]\n",
        "            \n",
        "            a1[j][0]=a1[j][0]+b1[j][0]\n",
        "            \n",
        "            a1[j][0]=sigmoid(a1[j][0])\n",
        "            \n",
        "        a2=[[0]*1]*s2\n",
        "        for j in range(s2):\n",
        "            ### For jth neuron in 2nd layer\n",
        "            for k in range(s1):\n",
        "                a2[j][0]=a2[j][0]+w2[j][k]*a1[k][0]\n",
        "            \n",
        "            a2[j][0]=a2[j][0]+b2[j][0]\n",
        "            \n",
        "            a2[j][0]=sigmoid(a2[j][0])\n",
        "\n",
        "        if a2[0][0]>=0.5 :\n",
        "          return 1 \n",
        "\n",
        "\n",
        "        return 0 \n"
      ],
      "execution_count": 0,
      "outputs": []
    },
    {
      "cell_type": "code",
      "metadata": {
        "id": "mwHmx2IwdTNo",
        "colab_type": "code",
        "colab": {}
      },
      "source": [
        "testd,testlabel=zip(*testdata)"
      ],
      "execution_count": 0,
      "outputs": []
    },
    {
      "cell_type": "code",
      "metadata": {
        "id": "XZ6g2taegGHe",
        "colab_type": "code",
        "colab": {
          "base_uri": "https://localhost:8080/",
          "height": 50
        },
        "outputId": "b6ee2207-b4ed-4162-a507-26794d0c04a6"
      },
      "source": [
        "predictions=[] \n",
        "for i in range(int(len(testd))):\n",
        "  predictions.append(predict(testd[i]))"
      ],
      "execution_count": 62,
      "outputs": [
        {
          "output_type": "stream",
          "text": [
            "/usr/local/lib/python3.6/dist-packages/ipykernel_launcher.py:2: RuntimeWarning: overflow encountered in exp\n",
            "  \n"
          ],
          "name": "stderr"
        }
      ]
    },
    {
      "cell_type": "code",
      "metadata": {
        "id": "bLoIMPlzgcOo",
        "colab_type": "code",
        "colab": {}
      },
      "source": [
        "acc=0 \n",
        "for i in range(int(len(testd))):\n",
        "  if testlabel[i]==predictions[i]:\n",
        "    acc=acc+1"
      ],
      "execution_count": 0,
      "outputs": []
    },
    {
      "cell_type": "code",
      "metadata": {
        "id": "hkXWFWlugzqi",
        "colab_type": "code",
        "colab": {}
      },
      "source": [
        "accuracy=acc/len(testlabel)"
      ],
      "execution_count": 0,
      "outputs": []
    },
    {
      "cell_type": "code",
      "metadata": {
        "id": "1Y3ixsLOg3zE",
        "colab_type": "code",
        "colab": {
          "base_uri": "https://localhost:8080/",
          "height": 34
        },
        "outputId": "ceea4273-dbc4-4e5d-fbdd-d3df103c51c3"
      },
      "source": [
        "accuracy=accuracy*100\n",
        "print(accuracy)"
      ],
      "execution_count": 65,
      "outputs": [
        {
          "output_type": "stream",
          "text": [
            "85.64249820531228\n"
          ],
          "name": "stdout"
        }
      ]
    },
    {
      "cell_type": "code",
      "metadata": {
        "id": "oPgSHRwKg8T9",
        "colab_type": "code",
        "colab": {}
      },
      "source": [
        ""
      ],
      "execution_count": 0,
      "outputs": []
    }
  ]
}