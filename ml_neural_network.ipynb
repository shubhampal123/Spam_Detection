{
 "cells": [
  {
   "cell_type": "code",
   "execution_count": 211,
   "metadata": {},
   "outputs": [],
   "source": [
    "import pickle\n",
    "traindata=[]\n",
    "testdata=[]\n",
    "with open('traindata.txt', 'rb') as filehandle:\n",
    "    # read the data as binary data stream\n",
    "    traindata = pickle.load(filehandle)"
   ]
  },
  {
   "cell_type": "code",
   "execution_count": 212,
   "metadata": {},
   "outputs": [],
   "source": [
    "with open('testdata.txt', 'rb') as filehandle:\n",
    "    # read the data as binary data stream\n",
    "    testdata= pickle.load(filehandle)"
   ]
  },
  {
   "cell_type": "code",
   "execution_count": 213,
   "metadata": {},
   "outputs": [],
   "source": [
    "dict,lab=traindata[0]\n"
   ]
  },
  {
   "cell_type": "code",
   "execution_count": 214,
   "metadata": {},
   "outputs": [
    {
     "name": "stdout",
     "output_type": "stream",
     "text": [
      "1500\n"
     ]
    }
   ],
   "source": [
    "print(len(dict))"
   ]
  },
  {
   "cell_type": "code",
   "execution_count": 215,
   "metadata": {},
   "outputs": [],
   "source": [
    "import numpy as np\n",
    "import random\n",
    "random.seed(1)\n",
    "m=len(traindata)\n",
    "n=1500\n",
    "s0=n \n",
    "s1=150\n",
    "s2=1\n",
    "w1=np.random.randn(s1,s0)*0.01\n",
    "w2=np.random.randn(s2,s1)*0.01 \n",
    "b1=np.zeros((s1,1))\n",
    "b2=np.zeros((s2,1))"
   ]
  },
  {
   "cell_type": "code",
   "execution_count": 216,
   "metadata": {},
   "outputs": [],
   "source": [
    "iterations=100\n",
    "alpha=10"
   ]
  },
  {
   "cell_type": "code",
   "execution_count": 217,
   "metadata": {},
   "outputs": [],
   "source": [
    "def sigmoid(x):\n",
    "    return 1/(1+np.exp(-x))"
   ]
  },
  {
   "cell_type": "code",
   "execution_count": 218,
   "metadata": {},
   "outputs": [],
   "source": [
    "def ReLU(x):\n",
    "    return max(0,x) "
   ]
  },
  {
   "cell_type": "code",
   "execution_count": 219,
   "metadata": {},
   "outputs": [],
   "source": [
    "a0=np.zeros((n,m))\n",
    "labels=np.zeros((s2,m))\n",
    "for i in range(m):\n",
    "     dic,label=traindata[i]\n",
    "     index=0\n",
    "     labels[0][i]=label\n",
    "     for x,y in dic.items():\n",
    "        if y :\n",
    "            a0[index][i]=1\n",
    "        index=index+1 "
   ]
  },
  {
   "cell_type": "code",
   "execution_count": 220,
   "metadata": {},
   "outputs": [],
   "source": [
    "for iteration in range(iterations):\n",
    "    dw1=np.zeros((s1,s0))\n",
    "    dw2=np.zeros((s2,s1))\n",
    "    db1=np.zeros((s1,1))\n",
    "    db2=np.zeros((s2,1))\n",
    "    ### Forward Propagation\n",
    "    a1=np.zeros((s1,m))\n",
    "    a2=np.zeros((s2,m))\n",
    "    \n",
    "    a1=sigmoid(np.dot(w1,a0)+b1)\n",
    "    a2=sigmoid(np.dot(w2,a1)+b2)\n",
    "    \n",
    "    ### Backward Propagation\n",
    "    \n",
    "    dz2=np.zeros((s2,m))\n",
    "    dz2=a2-labels \n",
    "    \n",
    "    dw2=np.dot(dz2,a1.transpose())/m \n",
    "    db2=np.sum(dz2,axis=1,keepdims=True)/m\n",
    "    dz1=np.dot(w2.transpose(),dz2)*a1*(1-a1)\n",
    "    \n",
    "    dw1=np.dot(dz1,a0.transpose())/m \n",
    "    db1=np.sum(dz1,axis=1,keepdims=True)/m\n",
    "    \n",
    "    ### Update The Parameters\n",
    "    \n",
    "    w1=w1-alpha*dw1\n",
    "    w2=w2-alpha*dw2\n",
    "    b1=b1-alpha*db1\n",
    "    b2=b2-alpha*db2\n",
    "    \n",
    "    "
   ]
  },
  {
   "cell_type": "code",
   "execution_count": 221,
   "metadata": {},
   "outputs": [],
   "source": [
    "data,out=zip(*testdata)\n",
    "nm=len(data)"
   ]
  },
  {
   "cell_type": "code",
   "execution_count": 222,
   "metadata": {},
   "outputs": [],
   "source": [
    "a0=np.zeros((n,nm))\n",
    "labels=np.zeros((s2,nm))\n",
    "for i in range(nm):\n",
    "     dic,label=testdata[i]\n",
    "     index=0\n",
    "     labels[0][i]=label\n",
    "     for x,y in dic.items():\n",
    "        if y :\n",
    "            a0[index][i]=1\n",
    "        index=index+1 "
   ]
  },
  {
   "cell_type": "code",
   "execution_count": 223,
   "metadata": {},
   "outputs": [],
   "source": [
    "a1=sigmoid(np.dot(w1,a0)+b1)\n",
    "a2=sigmoid(np.dot(w2,a1)+b2)"
   ]
  },
  {
   "cell_type": "code",
   "execution_count": 224,
   "metadata": {},
   "outputs": [],
   "source": [
    "A=(a2>=0.5)"
   ]
  },
  {
   "cell_type": "code",
   "execution_count": 225,
   "metadata": {},
   "outputs": [
    {
     "name": "stdout",
     "output_type": "stream",
     "text": [
      "[[False False  True ... False False  True]]\n"
     ]
    }
   ],
   "source": [
    "print(A)"
   ]
  },
  {
   "cell_type": "code",
   "execution_count": 226,
   "metadata": {},
   "outputs": [
    {
     "name": "stdout",
     "output_type": "stream",
     "text": [
      "97.98994974874373\n"
     ]
    }
   ],
   "source": [
    "acc=0 \n",
    "for i in range(nm):\n",
    "    if A[0][i]==labels[0][i]:\n",
    "        acc=acc+1\n",
    "        \n",
    "accuracy=acc/nm\n",
    "print(accuracy*100)"
   ]
  },
  {
   "cell_type": "code",
   "execution_count": null,
   "metadata": {},
   "outputs": [],
   "source": []
  },
  {
   "cell_type": "code",
   "execution_count": null,
   "metadata": {},
   "outputs": [],
   "source": []
  },
  {
   "cell_type": "code",
   "execution_count": null,
   "metadata": {},
   "outputs": [],
   "source": []
  },
  {
   "cell_type": "code",
   "execution_count": null,
   "metadata": {},
   "outputs": [],
   "source": []
  },
  {
   "cell_type": "code",
   "execution_count": 227,
   "metadata": {},
   "outputs": [
    {
     "ename": "KeyboardInterrupt",
     "evalue": "",
     "output_type": "error",
     "traceback": [
      "\u001b[1;31m---------------------------------------------------------------------------\u001b[0m",
      "\u001b[1;31mKeyboardInterrupt\u001b[0m                         Traceback (most recent call last)",
      "\u001b[1;32m<ipython-input-227-e0006e4eb841>\u001b[0m in \u001b[0;36m<module>\u001b[1;34m\u001b[0m\n\u001b[0;32m     50\u001b[0m             \u001b[0mdb1\u001b[0m\u001b[1;33m[\u001b[0m\u001b[0mj\u001b[0m\u001b[1;33m]\u001b[0m\u001b[1;33m[\u001b[0m\u001b[1;36m0\u001b[0m\u001b[1;33m]\u001b[0m\u001b[1;33m=\u001b[0m\u001b[0mdb1\u001b[0m\u001b[1;33m[\u001b[0m\u001b[0mj\u001b[0m\u001b[1;33m]\u001b[0m\u001b[1;33m[\u001b[0m\u001b[1;36m0\u001b[0m\u001b[1;33m]\u001b[0m\u001b[1;33m+\u001b[0m\u001b[0mdz1\u001b[0m\u001b[1;33m[\u001b[0m\u001b[0mj\u001b[0m\u001b[1;33m]\u001b[0m\u001b[1;33m[\u001b[0m\u001b[1;36m0\u001b[0m\u001b[1;33m]\u001b[0m\u001b[1;33m\u001b[0m\u001b[1;33m\u001b[0m\u001b[0m\n\u001b[0;32m     51\u001b[0m             \u001b[1;32mfor\u001b[0m \u001b[0mk\u001b[0m \u001b[1;32min\u001b[0m \u001b[0mrange\u001b[0m\u001b[1;33m(\u001b[0m\u001b[0ms0\u001b[0m\u001b[1;33m)\u001b[0m\u001b[1;33m:\u001b[0m\u001b[1;33m\u001b[0m\u001b[1;33m\u001b[0m\u001b[0m\n\u001b[1;32m---> 52\u001b[1;33m                 \u001b[0mdw1\u001b[0m\u001b[1;33m[\u001b[0m\u001b[0mj\u001b[0m\u001b[1;33m]\u001b[0m\u001b[1;33m[\u001b[0m\u001b[0mk\u001b[0m\u001b[1;33m]\u001b[0m\u001b[1;33m=\u001b[0m\u001b[0mdw1\u001b[0m\u001b[1;33m[\u001b[0m\u001b[0mj\u001b[0m\u001b[1;33m]\u001b[0m\u001b[1;33m[\u001b[0m\u001b[0mk\u001b[0m\u001b[1;33m]\u001b[0m\u001b[1;33m+\u001b[0m\u001b[0mdz1\u001b[0m\u001b[1;33m[\u001b[0m\u001b[0mj\u001b[0m\u001b[1;33m]\u001b[0m\u001b[1;33m[\u001b[0m\u001b[1;36m0\u001b[0m\u001b[1;33m]\u001b[0m\u001b[1;33m*\u001b[0m\u001b[0ma0\u001b[0m\u001b[1;33m[\u001b[0m\u001b[0mk\u001b[0m\u001b[1;33m]\u001b[0m\u001b[1;33m[\u001b[0m\u001b[1;36m0\u001b[0m\u001b[1;33m]\u001b[0m\u001b[1;33m\u001b[0m\u001b[1;33m\u001b[0m\u001b[0m\n\u001b[0m\u001b[0;32m     53\u001b[0m \u001b[1;33m\u001b[0m\u001b[0m\n\u001b[0;32m     54\u001b[0m \u001b[1;33m\u001b[0m\u001b[0m\n",
      "\u001b[1;31mKeyboardInterrupt\u001b[0m: "
     ]
    }
   ],
   "source": [
    "for iteration in range(iterations):\n",
    "    dw1=np.zeros((s1,s0))\n",
    "    dw2=np.zeros((s2,s1))\n",
    "    db1=np.zeros((s1,1))\n",
    "    db2=np.zeros((s2,1))\n",
    "    for i in range(m):\n",
    "    ### Forward Propogation\n",
    "        dic,label=traindata[i]\n",
    "        a0=np.zeros((n,1))\n",
    "        index=0\n",
    "        for x,y in dic.items():\n",
    "            if y :\n",
    "                a0[index][0]=1\n",
    "            index=index+1 \n",
    "        \n",
    "        a1=np.zeros((s1,1))\n",
    "        \n",
    "        for j in range(s1):\n",
    "            ### For jth neuron in 1st layer\n",
    "            for k in range(s0):\n",
    "                a1[j][0]=a1[j][0]+w1[j][k]*a0[k][0]\n",
    "            \n",
    "            a1[j][0]=a1[j][0]+b1[j][0]\n",
    "            \n",
    "            a1[j][0]=sigmoid(a1[j][0])\n",
    "            \n",
    "        a2=np.zeros((s2,1))\n",
    "        for j in range(s2):\n",
    "            ### For jth neuron in 2nd layer\n",
    "            for k in range(s1):\n",
    "                a2[j][0]=a2[j][0]+w2[j][k]*a1[k][0]\n",
    "            \n",
    "            a2[j][0]=a2[j][0]+b2[j][0]\n",
    "            \n",
    "            a2[j][0]=sigmoid(a2[j][0])\n",
    "            \n",
    "        \n",
    "    ### Backward Propogation\n",
    "        dz2=np.zeros((s2,1))\n",
    "        dz1=np.zeros((s1,1))\n",
    "        \n",
    "        for j in range(s2):\n",
    "            db2[j][0]=db2[j][0]+dz2[j][0] \n",
    "            for k in range(s1):\n",
    "                dw2[j][k]=dw2[j][k]+dz2[j][0]*a1[k][0]\n",
    "                dz1[k][0]=dz1[k][0]+w2[j][k]*dz2[j][0]\n",
    "        \n",
    "        \n",
    "        for j in range(s1):\n",
    "            db1[j][0]=db1[j][0]+dz1[j][0] \n",
    "            for k in range(s0):\n",
    "                dw1[j][k]=dw1[j][k]+dz1[j][0]*a0[k][0]\n",
    "                \n",
    "                \n",
    "    ### Update the parameters\n",
    "        w1=w1-(dw1)/m\n",
    "        w2=w2-(dw2)/m\n",
    "        b1=b1-(db1)/m\n",
    "        b2=b2-(db2)/m\n",
    "        \n",
    "                "
   ]
  },
  {
   "cell_type": "code",
   "execution_count": null,
   "metadata": {},
   "outputs": [],
   "source": []
  },
  {
   "cell_type": "code",
   "execution_count": null,
   "metadata": {},
   "outputs": [],
   "source": []
  }
 ],
 "metadata": {
  "kernelspec": {
   "display_name": "Python 3",
   "language": "python",
   "name": "python3"
  },
  "language_info": {
   "codemirror_mode": {
    "name": "ipython",
    "version": 3
   },
   "file_extension": ".py",
   "mimetype": "text/x-python",
   "name": "python",
   "nbconvert_exporter": "python",
   "pygments_lexer": "ipython3",
   "version": "3.7.4"
  }
 },
 "nbformat": 4,
 "nbformat_minor": 2
}
