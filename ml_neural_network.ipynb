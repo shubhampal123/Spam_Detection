{
  "nbformat": 4,
  "nbformat_minor": 0,
  "metadata": {
    "kernelspec": {
      "display_name": "Python 3",
      "language": "python",
      "name": "python3"
    },
    "language_info": {
      "codemirror_mode": {
        "name": "ipython",
        "version": 3
      },
      "file_extension": ".py",
      "mimetype": "text/x-python",
      "name": "python",
      "nbconvert_exporter": "python",
      "pygments_lexer": "ipython3",
      "version": "3.7.4"
    },
    "colab": {
      "name": "ml_neural_network.ipynb",
      "provenance": [],
      "toc_visible": true,
      "include_colab_link": true
    }
  },
  "cells": [
    {
      "cell_type": "markdown",
      "metadata": {
        "id": "view-in-github",
        "colab_type": "text"
      },
      "source": [
        "<a href=\"https://colab.research.google.com/github/shubhampal123/Spam_Detection/blob/master/ml_neural_network.ipynb\" target=\"_parent\"><img src=\"https://colab.research.google.com/assets/colab-badge.svg\" alt=\"Open In Colab\"/></a>"
      ]
    },
    {
      "cell_type": "code",
      "metadata": {
        "id": "ScfEf5wYSxU3",
        "colab_type": "code",
        "colab": {}
      },
      "source": [
        "import pickle\n",
        "traindata=[]\n",
        "testdata=[]\n",
        "with open('traindata.txt', 'rb') as filehandle:\n",
        "    # read the data as binary data stream\n",
        "    traindata = pickle.load(filehandle)"
      ],
      "execution_count": 0,
      "outputs": []
    },
    {
      "cell_type": "code",
      "metadata": {
        "id": "R4GoG3OfSxVC",
        "colab_type": "code",
        "colab": {}
      },
      "source": [
        "with open('testdata.txt', 'rb') as filehandle:\n",
        "    # read the data as binary data stream\n",
        "    testdata= pickle.load(filehandle)"
      ],
      "execution_count": 0,
      "outputs": []
    },
    {
      "cell_type": "code",
      "metadata": {
        "id": "TDvc0s93SxVK",
        "colab_type": "code",
        "colab": {}
      },
      "source": [
        "dict,lab=traindata[0]"
      ],
      "execution_count": 0,
      "outputs": []
    },
    {
      "cell_type": "code",
      "metadata": {
        "id": "3uWTbMewSxVO",
        "colab_type": "code",
        "colab": {
          "base_uri": "https://localhost:8080/",
          "height": 34
        },
        "outputId": "13c3ec8b-7956-4e4c-db0c-388d797b0045"
      },
      "source": [
        "print(len(dict))"
      ],
      "execution_count": 9,
      "outputs": [
        {
          "output_type": "stream",
          "text": [
            "1500\n"
          ],
          "name": "stdout"
        }
      ]
    },
    {
      "cell_type": "code",
      "metadata": {
        "id": "IDzpE9CYSxVb",
        "colab_type": "code",
        "colab": {}
      },
      "source": [
        "import numpy as np\n",
        "import random\n",
        "random.seed(1)\n",
        "w1=np.random.randn(1500,1500)*0.01\n",
        "w2=np.random.randn(1,1500)*0.01 \n",
        "b1=np.random.randn(1500,1)*0.01\n",
        "b2=np.random.randn(1,1)*0.01"
      ],
      "execution_count": 0,
      "outputs": []
    },
    {
      "cell_type": "code",
      "metadata": {
        "id": "RYm87iSKSxVf",
        "colab_type": "code",
        "colab": {}
      },
      "source": [
        "iterations=1\n",
        "alpha=100 "
      ],
      "execution_count": 0,
      "outputs": []
    },
    {
      "cell_type": "code",
      "metadata": {
        "id": "iNKXn86TSxVo",
        "colab_type": "code",
        "colab": {}
      },
      "source": [
        "def sigmoid(x):\n",
        "    return 1/(1+np.exp(-x))"
      ],
      "execution_count": 0,
      "outputs": []
    },
    {
      "cell_type": "code",
      "metadata": {
        "id": "h4_g7MgESxVx",
        "colab_type": "code",
        "colab": {}
      },
      "source": [
        "def ReLU(x):\n",
        "    return max(0,x) "
      ],
      "execution_count": 0,
      "outputs": []
    },
    {
      "cell_type": "code",
      "metadata": {
        "id": "Nnf6N0svSxV2",
        "colab_type": "code",
        "colab": {}
      },
      "source": [
        "m=len(traindata)\n",
        "n=1500\n",
        "s0=n \n",
        "s1=1500\n",
        "s2=1"
      ],
      "execution_count": 0,
      "outputs": []
    },
    {
      "cell_type": "code",
      "metadata": {
        "id": "aOGJRD_SSxV-",
        "colab_type": "code",
        "colab": {
          "base_uri": "https://localhost:8080/",
          "height": 50
        },
        "outputId": "0250171d-ba23-4966-d3bb-b1886a0a4b53"
      },
      "source": [
        "for iteration in range(iterations):\n",
        "    dw1=[[0]*n]*s1\n",
        "    dw2=[[0]*s1]*s2\n",
        "    db1=[[0]*1]*s1\n",
        "    db2=[[0]*1]*s2\n",
        "    for i in range(m):\n",
        "    ### Forward Propogation\n",
        "        dic,label=traindata[i]\n",
        "        a0=[[0]*1]*n\n",
        "        index=0\n",
        "        for x,y in dic.items():\n",
        "            if y :\n",
        "                a0[index][0]=1\n",
        "            index=index+1 \n",
        "        \n",
        "        a1=[[0]*1]*s1\n",
        "        \n",
        "        for j in range(s1):\n",
        "            ### For jth neuron in 1st layer\n",
        "            for k in range(s0):\n",
        "                a1[j][0]=a1[j][0]+w1[j][k]*a0[k][0]\n",
        "            \n",
        "            a1[j][0]=a1[j][0]+b1[j][0]\n",
        "            \n",
        "            a1[j][0]=sigmoid(a1[j][0])\n",
        "            \n",
        "        a2=[[0]*1]*s2\n",
        "        for j in range(s2):\n",
        "            ### For jth neuron in 2nd layer\n",
        "            for k in range(s1):\n",
        "                a2[j][0]=a2[j][0]+w2[j][k]*a1[k][0]\n",
        "            \n",
        "            a2[j][0]=a2[j][0]+b2[j][0]\n",
        "            \n",
        "            a2[j][0]=sigmoid(a2[j][0])\n",
        "            \n",
        "        \n",
        "    ### Backward Propogation\n",
        "        dz2=[[a2[0][0]-label]*1]*s2\n",
        "        dz1=[[0]*1]*s1\n",
        "        \n",
        "        for j in range(s2):\n",
        "            db2[j][0]=db2[j][0]+dz2[j][0] \n",
        "            for k in range(s1):\n",
        "                dw2[j][k]=dw2[j][k]+dz2[j][0]*a1[k][0]\n",
        "                dz1[k][0]=dz1[k][0]+w2[j][k]*dz2[j][0]\n",
        "        \n",
        "        \n",
        "        for j in range(s1):\n",
        "            db1[j][0]=db1[j][0]+dz1[j][0] \n",
        "            for k in range(s0):\n",
        "                dw1[j][k]=dw1[j][k]+dz1[j][0]*a0[k][0]\n",
        "                \n",
        "                \n",
        "    ### Update the parameters\n",
        "        w1=w1-dw1\n",
        "        w2=w2-dw2\n",
        "        b1=b1-b1\n",
        "        b2=b2-b2\n",
        "        \n",
        "                "
      ],
      "execution_count": 0,
      "outputs": [
        {
          "output_type": "stream",
          "text": [
            "/usr/local/lib/python3.6/dist-packages/ipykernel_launcher.py:2: RuntimeWarning: overflow encountered in exp\n",
            "  \n"
          ],
          "name": "stderr"
        }
      ]
    },
    {
      "cell_type": "code",
      "metadata": {
        "id": "4sbAl05eSxWF",
        "colab_type": "code",
        "colab": {}
      },
      "source": [
        ""
      ],
      "execution_count": 0,
      "outputs": []
    }
  ]
}