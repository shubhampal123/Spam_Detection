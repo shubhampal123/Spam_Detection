{
 "cells": [
  {
   "cell_type": "code",
   "execution_count": 137,
   "metadata": {},
   "outputs": [],
   "source": [
    "import pickle\n",
    "traindata=[]\n",
    "testdata=[]\n",
    "with open('traindata.txt', 'rb') as filehandle:\n",
    "    # read the data as binary data stream\n",
    "    traindata = pickle.load(filehandle)"
   ]
  },
  {
   "cell_type": "code",
   "execution_count": 138,
   "metadata": {},
   "outputs": [],
   "source": [
    "with open('testdata.txt', 'rb') as filehandle:\n",
    "    # read the data as binary data stream\n",
    "    testdata= pickle.load(filehandle)"
   ]
  },
  {
   "cell_type": "code",
   "execution_count": 139,
   "metadata": {},
   "outputs": [],
   "source": [
    "###Using BOW model"
   ]
  },
  {
   "cell_type": "code",
   "execution_count": 140,
   "metadata": {},
   "outputs": [],
   "source": [
    "\n",
    "probs={}\n",
    "probns={}"
   ]
  },
  {
   "cell_type": "code",
   "execution_count": 141,
   "metadata": {},
   "outputs": [],
   "source": [
    "tots=0 \n",
    "totns=0 \n",
    "spam=0 \n",
    "ham=0 "
   ]
  },
  {
   "cell_type": "code",
   "execution_count": 142,
   "metadata": {},
   "outputs": [],
   "source": [
    "for a,b in dict.items():\n",
    "    probs[a]=0 \n",
    "    probns[a]=0"
   ]
  },
  {
   "cell_type": "code",
   "execution_count": 143,
   "metadata": {},
   "outputs": [],
   "source": [
    "data,labels=zip(*traindata)"
   ]
  },
  {
   "cell_type": "code",
   "execution_count": 169,
   "metadata": {},
   "outputs": [],
   "source": [
    "n=len(labels)"
   ]
  },
  {
   "cell_type": "code",
   "execution_count": 170,
   "metadata": {},
   "outputs": [],
   "source": [
    "for i in range(0,n):\n",
    "    if labels[i]==0:\n",
    "        #ham\n",
    "        ham=ham+1\n",
    "        for a,b in data[i].items():\n",
    "            if b :\n",
    "                totns=totns+1 \n",
    "                probns[a]=probns[a]+1\n",
    "                \n",
    "    else :\n",
    "        #Spam\n",
    "        spam=spam+1\n",
    "        for a,b in data[i].items():\n",
    "            if b :\n",
    "                tots=tots+1 \n",
    "                probs[a]=probs[a]+1\n",
    "        \n",
    "        \n",
    "        "
   ]
  },
  {
   "cell_type": "code",
   "execution_count": 171,
   "metadata": {},
   "outputs": [],
   "source": [
    "for a,b in probs.items():\n",
    "    probs[a]=probs[a]/tots"
   ]
  },
  {
   "cell_type": "code",
   "execution_count": 172,
   "metadata": {},
   "outputs": [],
   "source": [
    "for a,b in probns.items():\n",
    "    probns[a]=probns[a]/totns"
   ]
  },
  {
   "cell_type": "code",
   "execution_count": 173,
   "metadata": {},
   "outputs": [],
   "source": [
    "def predict(data):\n",
    "    ps=spam\n",
    "    pns=ham\n",
    "    \n",
    "    for a,b in data.items():\n",
    "        if b:\n",
    "            ps=ps*probs[a]\n",
    "            pns=pns*probns[a]\n",
    "            \n",
    "    if ps>pns:\n",
    "        return 1\n",
    "    \n",
    "    return 0"
   ]
  },
  {
   "cell_type": "code",
   "execution_count": 174,
   "metadata": {},
   "outputs": [],
   "source": [
    "testd,testlabel=zip(*testdata)"
   ]
  },
  {
   "cell_type": "code",
   "execution_count": 175,
   "metadata": {},
   "outputs": [],
   "source": [
    "prediction=[] \n",
    "for dict in testd:\n",
    "    prediction.append(predict(dict))"
   ]
  },
  {
   "cell_type": "code",
   "execution_count": 176,
   "metadata": {},
   "outputs": [],
   "source": [
    "acc=0 \n",
    "for i in range(0,len(testlabel)):\n",
    "    if testlabel[i]==prediction[i]:\n",
    "        acc=acc+1"
   ]
  },
  {
   "cell_type": "code",
   "execution_count": 177,
   "metadata": {},
   "outputs": [],
   "source": [
    "accuracy=acc/len(testdata)\n",
    "accuracy=accuracy*100"
   ]
  },
  {
   "cell_type": "code",
   "execution_count": 181,
   "metadata": {},
   "outputs": [
    {
     "name": "stdout",
     "output_type": "stream",
     "text": [
      "Naive Bayes From Scratch Using Bag Of Word Model Accuracy:        96.69777458722182     \n"
     ]
    }
   ],
   "source": [
    "print('Naive Bayes From Scratch Using Bag Of Word Model Accuracy:        {}     '.format(accuracy))"
   ]
  },
  {
   "cell_type": "code",
   "execution_count": 182,
   "metadata": {},
   "outputs": [],
   "source": [
    "###Using TF-IDF Model"
   ]
  },
  {
   "cell_type": "code",
   "execution_count": null,
   "metadata": {},
   "outputs": [],
   "source": []
  },
  {
   "cell_type": "code",
   "execution_count": null,
   "metadata": {},
   "outputs": [],
   "source": []
  }
 ],
 "metadata": {
  "kernelspec": {
   "display_name": "Python 3",
   "language": "python",
   "name": "python3"
  },
  "language_info": {
   "codemirror_mode": {
    "name": "ipython",
    "version": 3
   },
   "file_extension": ".py",
   "mimetype": "text/x-python",
   "name": "python",
   "nbconvert_exporter": "python",
   "pygments_lexer": "ipython3",
   "version": "3.7.4"
  }
 },
 "nbformat": 4,
 "nbformat_minor": 2
}
