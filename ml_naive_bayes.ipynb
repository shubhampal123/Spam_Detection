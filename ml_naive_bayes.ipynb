{
 "cells": [
  {
   "cell_type": "code",
   "execution_count": 1,
   "metadata": {},
   "outputs": [],
   "source": [
    "import pickle\n",
    "traindata=[]\n",
    "testdata=[]\n",
    "with open('traindata.txt', 'rb') as filehandle:\n",
    "    # read the data as binary data stream\n",
    "    traindata = pickle.load(filehandle)"
   ]
  },
  {
   "cell_type": "code",
   "execution_count": 2,
   "metadata": {},
   "outputs": [],
   "source": [
    "with open('testdata.txt', 'rb') as filehandle:\n",
    "    # read the data as binary data stream\n",
    "    testdata= pickle.load(filehandle)"
   ]
  },
  {
   "cell_type": "code",
   "execution_count": 3,
   "metadata": {},
   "outputs": [],
   "source": [
    "###Using BOW model"
   ]
  },
  {
   "cell_type": "code",
   "execution_count": 4,
   "metadata": {},
   "outputs": [],
   "source": [
    "dict,l=traindata[0]\n",
    "probs={}\n",
    "probns={}"
   ]
  },
  {
   "cell_type": "code",
   "execution_count": 5,
   "metadata": {},
   "outputs": [],
   "source": [
    "tots=1500\n",
    "totns=1500\n",
    "spam=0 \n",
    "ham=0 "
   ]
  },
  {
   "cell_type": "code",
   "execution_count": 6,
   "metadata": {},
   "outputs": [],
   "source": [
    "for a,b in dict.items():\n",
    "    probs[a]=1\n",
    "    probns[a]=1 ### Laplace additive smoothing"
   ]
  },
  {
   "cell_type": "code",
   "execution_count": 7,
   "metadata": {},
   "outputs": [],
   "source": [
    "data,labels=zip(*traindata)"
   ]
  },
  {
   "cell_type": "code",
   "execution_count": 8,
   "metadata": {},
   "outputs": [],
   "source": [
    "n=len(labels)"
   ]
  },
  {
   "cell_type": "code",
   "execution_count": 9,
   "metadata": {},
   "outputs": [],
   "source": [
    "for i in range(0,n):\n",
    "    if labels[i]==0:\n",
    "        #ham\n",
    "        ham=ham+1\n",
    "        for a,b in data[i].items():\n",
    "           \n",
    "                totns=totns+b\n",
    "                probns[a]=probns[a]+b\n",
    "                \n",
    "    else :\n",
    "        #Spam\n",
    "        spam=spam+1\n",
    "        for a,b in data[i].items():\n",
    "            \n",
    "                tots=tots+b\n",
    "                probs[a]=probs[a]+b"
   ]
  },
  {
   "cell_type": "code",
   "execution_count": 10,
   "metadata": {},
   "outputs": [],
   "source": [
    "for a,b in probs.items():\n",
    "    probs[a]=probs[a]/tots\n",
    "    \n"
   ]
  },
  {
   "cell_type": "code",
   "execution_count": 11,
   "metadata": {},
   "outputs": [],
   "source": [
    "for a,b in probns.items():\n",
    "    probns[a]=probns[a]/totns\n",
    "    "
   ]
  },
  {
   "cell_type": "code",
   "execution_count": 12,
   "metadata": {},
   "outputs": [],
   "source": [
    "def predict(data):\n",
    "    ps=spam*1000\n",
    "    pns=ham*1000\n",
    "    \n",
    "    for a,b in data.items():\n",
    "        if b>0 :\n",
    "            ps=ps*probs[a]\n",
    "            pns=pns*probns[a]\n",
    "            \n",
    "    if ps>pns:\n",
    "        return 1\n",
    "    \n",
    "    return 0"
   ]
  },
  {
   "cell_type": "code",
   "execution_count": 13,
   "metadata": {},
   "outputs": [],
   "source": [
    "testd,testlabel=zip(*testdata)"
   ]
  },
  {
   "cell_type": "code",
   "execution_count": 14,
   "metadata": {},
   "outputs": [],
   "source": [
    "prediction=[] \n",
    "for dict in testd:\n",
    "    prediction.append(predict(dict))"
   ]
  },
  {
   "cell_type": "code",
   "execution_count": 15,
   "metadata": {},
   "outputs": [],
   "source": [
    "acc=0 \n",
    "for i in range(0,len(testlabel)):\n",
    "    if testlabel[i]==prediction[i]:\n",
    "        acc=acc+1"
   ]
  },
  {
   "cell_type": "code",
   "execution_count": 16,
   "metadata": {},
   "outputs": [],
   "source": [
    "accuracy=acc/len(testdata)\n",
    "accuracy=accuracy*100"
   ]
  },
  {
   "cell_type": "code",
   "execution_count": 17,
   "metadata": {},
   "outputs": [
    {
     "name": "stdout",
     "output_type": "stream",
     "text": [
      "Naive Bayes From Scratch Using Bag Of Word Model Accuracy:        98.06173725771716     \n"
     ]
    }
   ],
   "source": [
    "print('Naive Bayes From Scratch Using Bag Of Word Model Accuracy:        {}     '.format(accuracy))"
   ]
  },
  {
   "cell_type": "code",
   "execution_count": 36,
   "metadata": {},
   "outputs": [],
   "source": []
  },
  {
   "cell_type": "code",
   "execution_count": null,
   "metadata": {},
   "outputs": [],
   "source": []
  },
  {
   "cell_type": "code",
   "execution_count": null,
   "metadata": {},
   "outputs": [],
   "source": []
  }
 ],
 "metadata": {
  "kernelspec": {
   "display_name": "Python 3",
   "language": "python",
   "name": "python3"
  },
  "language_info": {
   "codemirror_mode": {
    "name": "ipython",
    "version": 3
   },
   "file_extension": ".py",
   "mimetype": "text/x-python",
   "name": "python",
   "nbconvert_exporter": "python",
   "pygments_lexer": "ipython3",
   "version": "3.7.4"
  }
 },
 "nbformat": 4,
 "nbformat_minor": 2
}
