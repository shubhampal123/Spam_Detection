{
 "cells": [
  {
   "cell_type": "code",
   "execution_count": 46,
   "metadata": {},
   "outputs": [],
   "source": [
    "import pickle\n",
    "traindata=[]\n",
    "testdata=[]\n",
    "with open('traindata.txt', 'rb') as filehandle:\n",
    "    # read the data as binary data stream\n",
    "    traindata = pickle.load(filehandle)"
   ]
  },
  {
   "cell_type": "code",
   "execution_count": 47,
   "metadata": {},
   "outputs": [],
   "source": [
    "with open('testdata.txt', 'rb') as filehandle:\n",
    "    # read the data as binary data stream\n",
    "    testdata= pickle.load(filehandle)"
   ]
  },
  {
   "cell_type": "code",
   "execution_count": 48,
   "metadata": {},
   "outputs": [],
   "source": [
    "import numpy as np\n",
    "def sigmoid(x):\n",
    "    return 1/(1+np.exp(-x))"
   ]
  },
  {
   "cell_type": "code",
   "execution_count": 49,
   "metadata": {},
   "outputs": [],
   "source": [
    "from random import seed\n",
    "from random import random\n",
    "\n",
    "seed(1)"
   ]
  },
  {
   "cell_type": "code",
   "execution_count": 50,
   "metadata": {},
   "outputs": [],
   "source": [
    "data,lab=zip(*traindata)"
   ]
  },
  {
   "cell_type": "code",
   "execution_count": 51,
   "metadata": {},
   "outputs": [],
   "source": [
    "w=[] \n",
    "for i in range(1500):\n",
    "    w.append(random())\n",
    "    \n",
    "b=0"
   ]
  },
  {
   "cell_type": "code",
   "execution_count": 52,
   "metadata": {},
   "outputs": [],
   "source": [
    "def predict(w,dict,b):\n",
    "    i=0 \n",
    "    sum=b\n",
    "    for a,c in dict.items():\n",
    "        \n",
    "        sum=sum+w[i]*c\n",
    "        i=i+1 \n",
    "        \n",
    "    prob=sigmoid(sum)\n",
    "    return prob \n",
    "       \n",
    "    "
   ]
  },
  {
   "cell_type": "code",
   "execution_count": null,
   "metadata": {},
   "outputs": [],
   "source": []
  },
  {
   "cell_type": "code",
   "execution_count": 59,
   "metadata": {},
   "outputs": [
    {
     "name": "stderr",
     "output_type": "stream",
     "text": [
      "c:\\users\\hp\\appdata\\local\\programs\\python\\python37-32\\lib\\site-packages\\ipykernel_launcher.py:3: RuntimeWarning: overflow encountered in exp\n",
      "  This is separate from the ipykernel package so we can avoid doing imports until\n"
     ]
    }
   ],
   "source": [
    "###Using Batch Gradient Descent\n",
    "n=1500 \n",
    "alpha=1000\n",
    "for iteration in range(10):\n",
    "    delw=np.zeros(n)\n",
    "    m=len(data)\n",
    "    delb=0 \n",
    "    for i in range(m):\n",
    "        prediction=predict(w,data[i],b)\n",
    "        \n",
    "        j=0 \n",
    "        \n",
    "        delb=delb+(prediction-lab[i])*c\n",
    "        for a,c in data[i].items():\n",
    "           \n",
    "            delw[j]=delw[j]+(prediction-lab[i])*c\n",
    "            j=j+1 \n",
    "            \n",
    "    \n",
    "    for i in range(n):\n",
    "        delw[i]=delw[i]/m \n",
    "       \n",
    "    for i in range(n):\n",
    "        w[i]=w[i]-alpha*delw[i] \n",
    "            \n",
    "        "
   ]
  },
  {
   "cell_type": "code",
   "execution_count": 60,
   "metadata": {},
   "outputs": [],
   "source": [
    "\n",
    "predictions=[] \n",
    "testd,label=data,lab\n"
   ]
  },
  {
   "cell_type": "code",
   "execution_count": 61,
   "metadata": {},
   "outputs": [],
   "source": [
    "for i in range(len(testd)):\n",
    "    x=predict(w,testd[i],b)\n",
    "    y=0\n",
    "    if x>=0.5:\n",
    "        y=1 \n",
    "        \n",
    "    predictions.append(y)\n",
    "        "
   ]
  },
  {
   "cell_type": "code",
   "execution_count": 62,
   "metadata": {},
   "outputs": [],
   "source": [
    "acc=0 \n",
    "for i in range(0,len(label)):\n",
    "    if label[i]==predictions[i]:\n",
    "        acc=acc+1"
   ]
  },
  {
   "cell_type": "code",
   "execution_count": 63,
   "metadata": {},
   "outputs": [],
   "source": [
    "accuracy=acc/len(testd)\n",
    "accuracy=accuracy*100"
   ]
  },
  {
   "cell_type": "code",
   "execution_count": 64,
   "metadata": {},
   "outputs": [
    {
     "name": "stdout",
     "output_type": "stream",
     "text": [
      "95.908111988514\n"
     ]
    }
   ],
   "source": [
    "print(accuracy)"
   ]
  },
  {
   "cell_type": "code",
   "execution_count": null,
   "metadata": {},
   "outputs": [],
   "source": []
  },
  {
   "cell_type": "code",
   "execution_count": null,
   "metadata": {},
   "outputs": [],
   "source": []
  }
 ],
 "metadata": {
  "kernelspec": {
   "display_name": "Python 3",
   "language": "python",
   "name": "python3"
  },
  "language_info": {
   "codemirror_mode": {
    "name": "ipython",
    "version": 3
   },
   "file_extension": ".py",
   "mimetype": "text/x-python",
   "name": "python",
   "nbconvert_exporter": "python",
   "pygments_lexer": "ipython3",
   "version": "3.7.4"
  }
 },
 "nbformat": 4,
 "nbformat_minor": 2
}
